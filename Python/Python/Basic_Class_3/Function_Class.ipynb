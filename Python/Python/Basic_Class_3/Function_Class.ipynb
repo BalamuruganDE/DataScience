{
 "cells": [
  {
   "cell_type": "code",
   "execution_count": 3,
   "metadata": {},
   "outputs": [
    {
     "name": "stdout",
     "output_type": "stream",
     "text": [
      "10000000000\n"
     ]
    }
   ],
   "source": [
    "a=10\n",
    "def square(num):\n",
    "    return num ** num\n",
    "\n",
    "print (square(a))\n"
   ]
  },
  {
   "cell_type": "code",
   "execution_count": 63,
   "metadata": {},
   "outputs": [],
   "source": [
    "a = 200\n",
    "def square(num):\n",
    "    \"\"\"\n",
    "    Signatute: Square function user-defined for square operation\n",
    "    \n",
    "    Params: \n",
    "    num: Integer that is to be squared\n",
    "    \n",
    "    returns: squared integer\n",
    "    \"\"\"\n",
    "    print(a)\n",
    "    return num*num\n",
    "    a = 10 #Local Scope of the variable a - A is not present outside the function\n",
    "   \n",
    "\n",
    "\n",
    "# print(square(2))\n"
   ]
  },
  {
   "cell_type": "code",
   "execution_count": 64,
   "metadata": {},
   "outputs": [
    {
     "name": "stdout",
     "output_type": "stream",
     "text": [
      "\u001b[0;31mSignature:\u001b[0m \u001b[0msquare\u001b[0m\u001b[0;34m(\u001b[0m\u001b[0mnum\u001b[0m\u001b[0;34m)\u001b[0m\u001b[0;34m\u001b[0m\u001b[0;34m\u001b[0m\u001b[0m\n",
      "\u001b[0;31mDocstring:\u001b[0m\n",
      "Signatute: Square function user-defined for square operation\n",
      "\n",
      "Params: \n",
      "num: Integer that is to be squared\n",
      "\n",
      "returns: squared integer\n",
      "\u001b[0;31mFile:\u001b[0m      /var/folders/8b/_vkggsks1pvdn519cywyj0_40000gn/T/ipykernel_36353/4060486950.py\n",
      "\u001b[0;31mType:\u001b[0m      function"
     ]
    }
   ],
   "source": [
    "square?"
   ]
  },
  {
   "cell_type": "code",
   "execution_count": 5,
   "metadata": {},
   "outputs": [
    {
     "name": "stdout",
     "output_type": "stream",
     "text": [
      "[2, 2, 4, 4, 4, 6, 8]\n"
     ]
    }
   ],
   "source": [
    "def evenSort(lst):\n",
    "    res_lst=[]\n",
    "    for i in lst:\n",
    "        if (i%2==0):\n",
    "            res_lst.append(i)\n",
    "    return sorted(res_lst)\n",
    "\n",
    "lst =[1,2,6,4,5,4,5,7,8,2,4,5]\n",
    "print(evenSort(lst))\n",
    "\n"
   ]
  },
  {
   "cell_type": "code",
   "execution_count": 12,
   "metadata": {},
   "outputs": [],
   "source": [
    "def uniqEvenSort(lst):\n",
    "    max_ele = max(lst)\n",
    "    return_lst=set(range(0,max_ele+1,2))\n",
    "    return sorted(return_lst.intersection(lst))\n"
   ]
  },
  {
   "cell_type": "code",
   "execution_count": 13,
   "metadata": {},
   "outputs": [
    {
     "data": {
      "text/plain": [
       "[2, 4, 6, 8]"
      ]
     },
     "execution_count": 13,
     "metadata": {},
     "output_type": "execute_result"
    }
   ],
   "source": [
    "lst =[1,2,6,4,5,4,5,7,8,2,4,5,9]\n",
    "uniqEvenSort(lst)"
   ]
  },
  {
   "cell_type": "code",
   "execution_count": 14,
   "metadata": {},
   "outputs": [
    {
     "data": {
      "text/plain": [
       "{0, 2, 4, 6, 8}"
      ]
     },
     "execution_count": 14,
     "metadata": {},
     "output_type": "execute_result"
    }
   ],
   "source": [
    "return_lst=set(range(0,9+1,2))\n",
    "return_lst"
   ]
  },
  {
   "cell_type": "code",
   "execution_count": 3,
   "metadata": {},
   "outputs": [
    {
     "data": {
      "text/plain": [
       "[2, 4, 6, 8]"
      ]
     },
     "execution_count": 3,
     "metadata": {},
     "output_type": "execute_result"
    }
   ],
   "source": [
    "from utils import uniqEvenSort_1\n",
    "\n",
    "lst =[1,2,6,4,5,4,5,7,8,2,4,5,9]\n",
    "uniqEvenSort_1(lst)\n"
   ]
  },
  {
   "cell_type": "code",
   "execution_count": 5,
   "metadata": {},
   "outputs": [
    {
     "data": {
      "text/plain": [
       "[1, 5, 7, 9]"
      ]
     },
     "execution_count": 5,
     "metadata": {},
     "output_type": "execute_result"
    }
   ],
   "source": [
    "from utils import uniqOddSort_1\n",
    "lst =[1,2,6,4,5,4,5,7,8,2,4,5,9]\n",
    "uniqOddSort_1(lst)"
   ]
  },
  {
   "cell_type": "code",
   "execution_count": 1,
   "metadata": {},
   "outputs": [
    {
     "data": {
      "text/plain": [
       "[2, 2, 4, 4, 6, 8]"
      ]
     },
     "execution_count": 1,
     "metadata": {},
     "output_type": "execute_result"
    }
   ],
   "source": [
    "from utils import evenSortLoop\n",
    "lst =[1,2,6,4,5,4,5,7,8,2]\n",
    "evenSortLoop(lst)"
   ]
  },
  {
   "cell_type": "code",
   "execution_count": 3,
   "metadata": {},
   "outputs": [
    {
     "data": {
      "text/plain": [
       "[1, 5, 5, 7]"
      ]
     },
     "execution_count": 3,
     "metadata": {},
     "output_type": "execute_result"
    }
   ],
   "source": [
    "from utils import oddSortLoop\n",
    "lst =[1,2,6,4,5,4,5,7,8,2]\n",
    "oddSortLoop(lst)\n"
   ]
  },
  {
   "cell_type": "code",
   "execution_count": 8,
   "metadata": {},
   "outputs": [
    {
     "name": "stdout",
     "output_type": "stream",
     "text": [
      "dummy\n"
     ]
    }
   ],
   "source": [
    "from utils import oddSortLoop,dummy,evenSortLoop\n",
    "\n",
    "dummy()"
   ]
  },
  {
   "cell_type": "code",
   "execution_count": 11,
   "metadata": {},
   "outputs": [
    {
     "name": "stdout",
     "output_type": "stream",
     "text": [
      "dummy\n"
     ]
    }
   ],
   "source": [
    "from utils import *\n",
    "\n",
    "dummy()"
   ]
  },
  {
   "cell_type": "code",
   "execution_count": 3,
   "metadata": {},
   "outputs": [
    {
     "name": "stdout",
     "output_type": "stream",
     "text": [
      "dummy\n"
     ]
    }
   ],
   "source": [
    "import utils\n",
    "utils.dummy()"
   ]
  },
  {
   "cell_type": "code",
   "execution_count": 14,
   "metadata": {},
   "outputs": [],
   "source": [
    "class DS:\n",
    "    x=2\n",
    "    # def transision(x):\n",
    "    def transition(x):\n",
    "        print(f\"x{x}\")\n",
    "\n"
   ]
  },
  {
   "cell_type": "code",
   "execution_count": 15,
   "metadata": {},
   "outputs": [],
   "source": [
    "obj1=DS()"
   ]
  },
  {
   "cell_type": "code",
   "execution_count": 11,
   "metadata": {},
   "outputs": [
    {
     "ename": "AttributeError",
     "evalue": "'DS' object has no attribute 'transition'",
     "output_type": "error",
     "traceback": [
      "\u001b[0;31m---------------------------------------------------------------------------\u001b[0m",
      "\u001b[0;31mAttributeError\u001b[0m                            Traceback (most recent call last)",
      "Cell \u001b[0;32mIn[11], line 1\u001b[0m\n\u001b[0;32m----> 1\u001b[0m obj1\u001b[38;5;241m.\u001b[39mtransition()\n",
      "\u001b[0;31mAttributeError\u001b[0m: 'DS' object has no attribute 'transition'"
     ]
    }
   ],
   "source": [
    "obj1.transition()"
   ]
  },
  {
   "cell_type": "code",
   "execution_count": 17,
   "metadata": {},
   "outputs": [
    {
     "name": "stdout",
     "output_type": "stream",
     "text": [
      "x<__main__.DS object at 0x1056d2110>\n"
     ]
    }
   ],
   "source": [
    "obj1.transition()"
   ]
  },
  {
   "cell_type": "code",
   "execution_count": 38,
   "metadata": {},
   "outputs": [
    {
     "ename": "TypeError",
     "evalue": "InceptezBatch23.__init__() missing 1 required positional argument: 'profession'",
     "output_type": "error",
     "traceback": [
      "\u001b[0;31m---------------------------------------------------------------------------\u001b[0m",
      "\u001b[0;31mTypeError\u001b[0m                                 Traceback (most recent call last)",
      "Cell \u001b[0;32mIn[38], line 17\u001b[0m\n\u001b[1;32m     13\u001b[0m     \u001b[38;5;66;03m# def transition(self, role): #Self is used to access and manipulate the instances and methods within the class\u001b[39;00m\n\u001b[1;32m     14\u001b[0m     \u001b[38;5;66;03m#     print(f\"{self.name} is now a {role} Hero after learning from Inceptez Batch 23\")\u001b[39;00m\n\u001b[1;32m     16\u001b[0m p1 \u001b[38;5;241m=\u001b[39m InceptezBatch23(\u001b[38;5;124m\"\u001b[39m\u001b[38;5;124mBala Murugan\u001b[39m\u001b[38;5;124m\"\u001b[39m,\u001b[38;5;124m\"\u001b[39m\u001b[38;5;124mData-Engineer\u001b[39m\u001b[38;5;124m\"\u001b[39m) \u001b[38;5;66;03m#Object of the class\u001b[39;00m\n\u001b[0;32m---> 17\u001b[0m p2\u001b[38;5;241m=\u001b[39m InceptezBatch23(\u001b[38;5;124m\"\u001b[39m\u001b[38;5;124mBala Murugan\u001b[39m\u001b[38;5;124m\"\u001b[39m)\n",
      "\u001b[0;31mTypeError\u001b[0m: InceptezBatch23.__init__() missing 1 required positional argument: 'profession'"
     ]
    }
   ],
   "source": [
    "#Python Classes / Objects \n",
    "#Object Oriented Programming - Everything here is based on objects, with methods and properties\n",
    "#ENCAPSULATION - \n",
    "class InceptezBatch23:\n",
    "\n",
    "    def __init__(self,name,profession,param3 = None, param4 = None,param5 = None):#Constructor to a function\n",
    "        self.name =name;\n",
    "        self.profession=profession;\n",
    "    \n",
    "    def transition(self,role): #Self is used to access and manipulate the instances and methods within the class\n",
    "        print(f\"{self.name} is now is now a {role}\")\n",
    "        \n",
    "    # def transition(self, role): #Self is used to access and manipulate the instances and methods within the class\n",
    "    #     print(f\"{self.name} is now a {role} Hero after learning from Inceptez Batch 23\")\n",
    "\n",
    "p1 = InceptezBatch23(\"Bala Murugan\",\"Data-Engineer\") #Object of the class\n",
    "p2= InceptezBatch23(\"Bala Murugan\")"
   ]
  },
  {
   "cell_type": "code",
   "execution_count": 39,
   "metadata": {},
   "outputs": [
    {
     "data": {
      "text/plain": [
       "'Bala Murugan'"
      ]
     },
     "execution_count": 39,
     "metadata": {},
     "output_type": "execute_result"
    }
   ],
   "source": [
    "p1.name"
   ]
  },
  {
   "cell_type": "code",
   "execution_count": 20,
   "metadata": {},
   "outputs": [
    {
     "ename": "AttributeError",
     "evalue": "'InceptezBatch23' object has no attribute 'role'",
     "output_type": "error",
     "traceback": [
      "\u001b[0;31m---------------------------------------------------------------------------\u001b[0m",
      "\u001b[0;31mAttributeError\u001b[0m                            Traceback (most recent call last)",
      "Cell \u001b[0;32mIn[20], line 1\u001b[0m\n\u001b[0;32m----> 1\u001b[0m p1\u001b[38;5;241m.\u001b[39mrole\n",
      "\u001b[0;31mAttributeError\u001b[0m: 'InceptezBatch23' object has no attribute 'role'"
     ]
    }
   ],
   "source": [
    "p1.role"
   ]
  },
  {
   "cell_type": "code",
   "execution_count": 23,
   "metadata": {},
   "outputs": [
    {
     "data": {
      "text/plain": [
       "'Data-Engineer'"
      ]
     },
     "execution_count": 23,
     "metadata": {},
     "output_type": "execute_result"
    }
   ],
   "source": [
    "p1.profession"
   ]
  },
  {
   "cell_type": "code",
   "execution_count": 40,
   "metadata": {},
   "outputs": [
    {
     "name": "stdout",
     "output_type": "stream",
     "text": [
      "Bala Murugan is now is now a Lead Data Scientist\n"
     ]
    }
   ],
   "source": [
    "p1.transition(\"Lead Data Scientist\")"
   ]
  },
  {
   "cell_type": "code",
   "execution_count": 41,
   "metadata": {},
   "outputs": [
    {
     "ename": "TypeError",
     "evalue": "add() missing 1 required positional argument: 'c'",
     "output_type": "error",
     "traceback": [
      "\u001b[0;31m---------------------------------------------------------------------------\u001b[0m",
      "\u001b[0;31mTypeError\u001b[0m                                 Traceback (most recent call last)",
      "Cell \u001b[0;32mIn[41], line 8\u001b[0m\n\u001b[1;32m      5\u001b[0m     \u001b[38;5;28mprint\u001b[39m(a\u001b[38;5;241m+\u001b[39mb\u001b[38;5;241m+\u001b[39mc)\n\u001b[1;32m      7\u001b[0m \u001b[38;5;66;03m#Memory add is overwritten by new initialization\u001b[39;00m\n\u001b[0;32m----> 8\u001b[0m add(\u001b[38;5;241m1\u001b[39m,\u001b[38;5;241m2\u001b[39m)\n",
      "\u001b[0;31mTypeError\u001b[0m: add() missing 1 required positional argument: 'c'"
     ]
    }
   ],
   "source": [
    "def add(a,b):\n",
    "    print(a+b)\n",
    "    \n",
    "def add(a,b,c):\n",
    "    print(a+b+c)\n",
    "    \n",
    "#Memory add is overwritten by new initialization\n",
    "add(1,2)"
   ]
  },
  {
   "cell_type": "code",
   "execution_count": 34,
   "metadata": {},
   "outputs": [],
   "source": [
    "class calc:\n",
    "    def add(a,b):\n",
    "        print(a+b)\n",
    "        \n",
    "    def add(a,b,c):\n",
    "        print(a+b+c)\n",
    "    \n",
    "#Memory add is overwritten by new initialization\n",
    "# add(1,2)\n",
    "\n",
    "p1 = calc()\n"
   ]
  },
  {
   "cell_type": "code",
   "execution_count": 35,
   "metadata": {},
   "outputs": [
    {
     "ename": "TypeError",
     "evalue": "unsupported operand type(s) for +: 'calc' and 'int'",
     "output_type": "error",
     "traceback": [
      "\u001b[0;31m---------------------------------------------------------------------------\u001b[0m",
      "\u001b[0;31mTypeError\u001b[0m                                 Traceback (most recent call last)",
      "Cell \u001b[0;32mIn[35], line 1\u001b[0m\n\u001b[0;32m----> 1\u001b[0m p1\u001b[38;5;241m.\u001b[39madd(\u001b[38;5;241m1\u001b[39m,\u001b[38;5;241m2\u001b[39m)\n",
      "Cell \u001b[0;32mIn[34], line 6\u001b[0m, in \u001b[0;36mcalc.add\u001b[0;34m(a, b, c)\u001b[0m\n\u001b[1;32m      5\u001b[0m \u001b[38;5;28;01mdef\u001b[39;00m \u001b[38;5;21madd\u001b[39m(a,b,c):\n\u001b[0;32m----> 6\u001b[0m     \u001b[38;5;28mprint\u001b[39m(a\u001b[38;5;241m+\u001b[39mb\u001b[38;5;241m+\u001b[39mc)\n",
      "\u001b[0;31mTypeError\u001b[0m: unsupported operand type(s) for +: 'calc' and 'int'"
     ]
    }
   ],
   "source": [
    "p1.add(1,2)"
   ]
  },
  {
   "cell_type": "code",
   "execution_count": 43,
   "metadata": {},
   "outputs": [],
   "source": [
    "#Function overloading is to have dynamic parameters and handling\n",
    "#Ability to degine multiple functions with same name but different parameters or arugment types in a PLanguage\n",
    "def add(datatype, *args, **kwargs):\n",
    "    if datatype == 'int':\n",
    "        ans= 0\n",
    "        for i in args: \n",
    "            ans = ans+i\n",
    "    \n",
    "    if datatype == \"str\":\n",
    "        ans = ''\n",
    "        \n",
    "        for i in args: \n",
    "            ans = ans+' '+i\n",
    "    print(ans)"
   ]
  },
  {
   "cell_type": "code",
   "execution_count": 44,
   "metadata": {},
   "outputs": [
    {
     "name": "stdout",
     "output_type": "stream",
     "text": [
      " Inceptez Batch 23\n"
     ]
    }
   ],
   "source": [
    "add('str', \"Inceptez\",\"Batch\",\"23\")"
   ]
  },
  {
   "cell_type": "code",
   "execution_count": 50,
   "metadata": {},
   "outputs": [
    {
     "name": "stdout",
     "output_type": "stream",
     "text": [
      "36\n"
     ]
    }
   ],
   "source": [
    "add('int', 1,2,3,4,5,6,7,8)"
   ]
  },
  {
   "cell_type": "code",
   "execution_count": 51,
   "metadata": {},
   "outputs": [
    {
     "name": "stdout",
     "output_type": "stream",
     "text": [
      "\u001b[0;31mDocstring:\u001b[0m\n",
      "Return the intersection of two sets as a new set.\n",
      "\n",
      "(i.e. all elements that are in both sets.)\n",
      "\u001b[0;31mType:\u001b[0m      method_descriptor"
     ]
    }
   ],
   "source": [
    "set.intersection?"
   ]
  },
  {
   "cell_type": "code",
   "execution_count": 53,
   "metadata": {},
   "outputs": [],
   "source": [
    "def samplefunction(MandatoryParams, *args, **kwargs): #*args to define varying size of arguments that will be saved in a indexable iterable \n",
    "    #** to save items as a dictionary that will be used as keyword Varying size or optional\n",
    "    print(MandatoryParams)\n",
    "    \n",
    "    if args: \n",
    "        print(args)\n",
    "        \n",
    "    if kwargs:\n",
    "        print(kwargs)"
   ]
  },
  {
   "cell_type": "code",
   "execution_count": 54,
   "metadata": {},
   "outputs": [
    {
     "name": "stdout",
     "output_type": "stream",
     "text": [
      "1\n",
      "(1, 2, 3, 4, '4', '6')\n",
      "{'keyword1': 'Laxmi', 'keyword2': 6, 'sample': 20}\n"
     ]
    }
   ],
   "source": [
    "samplefunction(1, 1,2,3,4,'4','6',keyword1 = \"Laxmi\",keyword2 = 6,sample = 20)"
   ]
  },
  {
   "cell_type": "code",
   "execution_count": 57,
   "metadata": {},
   "outputs": [
    {
     "name": "stdout",
     "output_type": "stream",
     "text": [
      "1\n",
      "(1, 2, 3, 4, '4', '6')\n"
     ]
    }
   ],
   "source": [
    "samplefunction(1, 1,2,3,4,'4','6')"
   ]
  },
  {
   "cell_type": "code",
   "execution_count": 58,
   "metadata": {},
   "outputs": [
    {
     "name": "stdout",
     "output_type": "stream",
     "text": [
      "1\n"
     ]
    }
   ],
   "source": [
    "samplefunction(1)"
   ]
  },
  {
   "cell_type": "code",
   "execution_count": 59,
   "metadata": {},
   "outputs": [
    {
     "name": "stdout",
     "output_type": "stream",
     "text": [
      "{1: 2, 3: 4}\n"
     ]
    }
   ],
   "source": [
    "string = [[1,2],[3,4]]\n",
    "print(dict(string))"
   ]
  }
 ],
 "metadata": {
  "kernelspec": {
   "display_name": "base",
   "language": "python",
   "name": "python3"
  },
  "language_info": {
   "codemirror_mode": {
    "name": "ipython",
    "version": 3
   },
   "file_extension": ".py",
   "mimetype": "text/x-python",
   "name": "python",
   "nbconvert_exporter": "python",
   "pygments_lexer": "ipython3",
   "version": "3.11.7"
  }
 },
 "nbformat": 4,
 "nbformat_minor": 2
}
