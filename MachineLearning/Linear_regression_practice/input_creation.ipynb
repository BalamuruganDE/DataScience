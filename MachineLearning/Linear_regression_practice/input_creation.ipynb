{
 "cells": [
  {
   "cell_type": "code",
   "execution_count": 11,
   "metadata": {},
   "outputs": [],
   "source": [
    "lst=[\"000\",\"FDP36\",10.395,\"Regular\",0,\"Baking Goods\",51.4008,\"OUT018\",2009,\"Medium\",\"Tier 3\",\"Supermarket Type2\"]"
   ]
  },
  {
   "cell_type": "code",
   "execution_count": 8,
   "metadata": {},
   "outputs": [],
   "source": [
    "dct = {\"Key\":\"000\",\n",
    "  \"Item_Identifier\": \"\",\n",
    "  \"Item_Weight\": 0,\n",
    "  \"Item_Fat_Content\": \"\",\n",
    "  \"Item_Visibility\": 0,\n",
    "  \"Item_Type\": \"\",\n",
    "  \"Item_MRP\": 0,\n",
    "  \"Outlet_Identifier\": \"\",\n",
    "  \"Outlet_Establishment_Year\": 0,\n",
    "  \"Outlet_Size\": \"\",\n",
    "  \"Outlet_Location_Type\": \"\",\n",
    "  \"Outlet_Type\": \"\"}"
   ]
  },
  {
   "cell_type": "code",
   "execution_count": 9,
   "metadata": {},
   "outputs": [
    {
     "data": {
      "text/plain": [
       "{'Key': '000',\n",
       " 'Item_Identifier': '',\n",
       " 'Item_Weight': 0,\n",
       " 'Item_Fat_Content': '',\n",
       " 'Item_Visibility': 0,\n",
       " 'Item_Type': '',\n",
       " 'Item_MRP': 0,\n",
       " 'Outlet_Identifier': '',\n",
       " 'Outlet_Establishment_Year': 0,\n",
       " 'Outlet_Size': '',\n",
       " 'Outlet_Location_Type': '',\n",
       " 'Outlet_Type': ''}"
      ]
     },
     "execution_count": 9,
     "metadata": {},
     "output_type": "execute_result"
    }
   ],
   "source": [
    "dct"
   ]
  },
  {
   "cell_type": "code",
   "execution_count": 13,
   "metadata": {},
   "outputs": [],
   "source": [
    "for i in lst:\n",
    "    dct\n",
    "    "
   ]
  },
  {
   "cell_type": "code",
   "execution_count": 16,
   "metadata": {},
   "outputs": [],
   "source": [
    "keys = list(dct.keys())"
   ]
  },
  {
   "cell_type": "code",
   "execution_count": 18,
   "metadata": {},
   "outputs": [
    {
     "data": {
      "text/plain": [
       "['Key',\n",
       " 'Item_Identifier',\n",
       " 'Item_Weight',\n",
       " 'Item_Fat_Content',\n",
       " 'Item_Visibility',\n",
       " 'Item_Type',\n",
       " 'Item_MRP',\n",
       " 'Outlet_Identifier',\n",
       " 'Outlet_Establishment_Year',\n",
       " 'Outlet_Size',\n",
       " 'Outlet_Location_Type',\n",
       " 'Outlet_Type']"
      ]
     },
     "execution_count": 18,
     "metadata": {},
     "output_type": "execute_result"
    }
   ],
   "source": [
    "keys"
   ]
  },
  {
   "cell_type": "code",
   "execution_count": 34,
   "metadata": {},
   "outputs": [],
   "source": [
    "for i in range(len(lst)):\n",
    "    # print(lst[i])\n",
    "    dct[keys[i]]=lst[i]"
   ]
  },
  {
   "cell_type": "code",
   "execution_count": 35,
   "metadata": {},
   "outputs": [
    {
     "data": {
      "text/plain": [
       "{'Key': '000',\n",
       " 'Item_Identifier': 'FDH17',\n",
       " 'Item_Weight': 16.2,\n",
       " 'Item_Fat_Content': 'Regular',\n",
       " 'Item_Visibility': 0.016687114,\n",
       " 'Item_Type': 'Frozen Foods',\n",
       " 'Item_MRP': 96.9726,\n",
       " 'Outlet_Identifier': 'OUT045',\n",
       " 'Outlet_Establishment_Year': 2002,\n",
       " 'Outlet_Size': '',\n",
       " 'Outlet_Location_Type': 'Tier 2',\n",
       " 'Outlet_Type': 'Supermarket Type1'}"
      ]
     },
     "execution_count": 35,
     "metadata": {},
     "output_type": "execute_result"
    }
   ],
   "source": [
    "dct"
   ]
  },
  {
   "cell_type": "code",
   "execution_count": 33,
   "metadata": {},
   "outputs": [],
   "source": [
    "lst=[\"000\",\t\"FDH17\",\t16.2,\t\"Regular\",\t0.016687114,\t\"Frozen Foods\",\t96.9726,\t\"OUT045\",\t2002,\t\"\",\t\"Tier 2\",\t\"Supermarket Type1\"]"
   ]
  },
  {
   "cell_type": "code",
   "execution_count": null,
   "metadata": {},
   "outputs": [],
   "source": [
    "{\"Key\": \"000\",\n",
    " \"Item_Identifier\": \"FDH17\",\n",
    " \"Item_Weight\": 16.2,\n",
    " \"Item_Fat_Content\": \"Regular\",\n",
    " \"Item_Visibility\": 0.016687114,\n",
    " \"Item_Type\": \"Frozen Foods\",\n",
    " \"Item_MRP\": 96.9726,\n",
    " \"Outlet_Identifier\": \"OUT045\",\n",
    " \"Outlet_Establishment_Year\": 2002,\n",
    " \"Outlet_Size\": \"\",\n",
    " \"Outlet_Location_Type\": \"Tier 2\",\n",
    " \"Outlet_Type\": \"Supermarket Type1\"}"
   ]
  }
 ],
 "metadata": {
  "kernelspec": {
   "display_name": "Python 3",
   "language": "python",
   "name": "python3"
  },
  "language_info": {
   "codemirror_mode": {
    "name": "ipython",
    "version": 3
   },
   "file_extension": ".py",
   "mimetype": "text/x-python",
   "name": "python",
   "nbconvert_exporter": "python",
   "pygments_lexer": "ipython3",
   "version": "3.12.4"
  }
 },
 "nbformat": 4,
 "nbformat_minor": 2
}
