{
 "cells": [
  {
   "cell_type": "code",
   "execution_count": 1,
   "metadata": {},
   "outputs": [],
   "source": [
    "import pandas as pd\n",
    "import numpy as np"
   ]
  },
  {
   "cell_type": "code",
   "execution_count": 2,
   "metadata": {},
   "outputs": [
    {
     "name": "stdout",
     "output_type": "stream",
     "text": [
      "[[1 1]\n",
      " [1 2]\n",
      " [1 3]]\n"
     ]
    },
    {
     "data": {
      "text/plain": [
       "(3, 2)"
      ]
     },
     "execution_count": 2,
     "metadata": {},
     "output_type": "execute_result"
    }
   ],
   "source": [
    "x=[1,2,3]\n",
    "X=np.array([[1,1],[1,2],[1,3]])\n",
    "print(X)\n",
    "X.shape"
   ]
  },
  {
   "cell_type": "code",
   "execution_count": 3,
   "metadata": {},
   "outputs": [
    {
     "name": "stdout",
     "output_type": "stream",
     "text": [
      "[[1 1 1]\n",
      " [1 2 3]]\n"
     ]
    },
    {
     "data": {
      "text/plain": [
       "(2, 3)"
      ]
     },
     "execution_count": 3,
     "metadata": {},
     "output_type": "execute_result"
    }
   ],
   "source": [
    "print(X.T)\n",
    "(X.T).shape"
   ]
  },
  {
   "cell_type": "code",
   "execution_count": 4,
   "metadata": {},
   "outputs": [
    {
     "name": "stdout",
     "output_type": "stream",
     "text": [
      "[2 3 5]\n"
     ]
    },
    {
     "data": {
      "text/plain": [
       "(3,)"
      ]
     },
     "execution_count": 4,
     "metadata": {},
     "output_type": "execute_result"
    }
   ],
   "source": [
    "Y=np.array([2,3,5])\n",
    "print(Y)\n",
    "Y.shape"
   ]
  },
  {
   "cell_type": "code",
   "execution_count": 5,
   "metadata": {},
   "outputs": [
    {
     "name": "stdout",
     "output_type": "stream",
     "text": [
      "\u001b[0;31mType:\u001b[0m        module\n",
      "\u001b[0;31mString form:\u001b[0m <module 'numpy.linalg' from '/opt/anaconda3/lib/python3.11/site-packages/numpy/linalg/__init__.py'>\n",
      "\u001b[0;31mFile:\u001b[0m        /opt/anaconda3/lib/python3.11/site-packages/numpy/linalg/__init__.py\n",
      "\u001b[0;31mDocstring:\u001b[0m  \n",
      "``numpy.linalg``\n",
      "================\n",
      "\n",
      "The NumPy linear algebra functions rely on BLAS and LAPACK to provide efficient\n",
      "low level implementations of standard linear algebra algorithms. Those\n",
      "libraries may be provided by NumPy itself using C versions of a subset of their\n",
      "reference implementations but, when possible, highly optimized libraries that\n",
      "take advantage of specialized processor functionality are preferred. Examples\n",
      "of such libraries are OpenBLAS, MKL (TM), and ATLAS. Because those libraries\n",
      "are multithreaded and processor dependent, environmental variables and external\n",
      "packages such as threadpoolctl may be needed to control the number of threads\n",
      "or specify the processor architecture.\n",
      "\n",
      "- OpenBLAS: https://www.openblas.net/\n",
      "- threadpoolctl: https://github.com/joblib/threadpoolctl\n",
      "\n",
      "Please note that the most-used linear algebra functions in NumPy are present in\n",
      "the main ``numpy`` namespace rather than in ``numpy.linalg``.  There are:\n",
      "``dot``, ``vdot``, ``inner``, ``outer``, ``matmul``, ``tensordot``, ``einsum``,\n",
      "``einsum_path`` and ``kron``.\n",
      "\n",
      "Functions present in numpy.linalg are listed below.\n",
      "\n",
      "\n",
      "Matrix and vector products\n",
      "--------------------------\n",
      "\n",
      "   multi_dot\n",
      "   matrix_power\n",
      "\n",
      "Decompositions\n",
      "--------------\n",
      "\n",
      "   cholesky\n",
      "   qr\n",
      "   svd\n",
      "\n",
      "Matrix eigenvalues\n",
      "------------------\n",
      "\n",
      "   eig\n",
      "   eigh\n",
      "   eigvals\n",
      "   eigvalsh\n",
      "\n",
      "Norms and other numbers\n",
      "-----------------------\n",
      "\n",
      "   norm\n",
      "   cond\n",
      "   det\n",
      "   matrix_rank\n",
      "   slogdet\n",
      "\n",
      "Solving equations and inverting matrices\n",
      "----------------------------------------\n",
      "\n",
      "   solve\n",
      "   tensorsolve\n",
      "   lstsq\n",
      "   inv\n",
      "   pinv\n",
      "   tensorinv\n",
      "\n",
      "Exceptions\n",
      "----------\n",
      "\n",
      "   LinAlgError"
     ]
    }
   ],
   "source": [
    "np.linalg?"
   ]
  },
  {
   "cell_type": "code",
   "execution_count": 6,
   "metadata": {},
   "outputs": [
    {
     "data": {
      "text/plain": [
       "array([[ 3,  6],\n",
       "       [ 6, 14]])"
      ]
     },
     "execution_count": 6,
     "metadata": {},
     "output_type": "execute_result"
    }
   ],
   "source": [
    "val=(X.T@X)\n",
    "val"
   ]
  },
  {
   "cell_type": "code",
   "execution_count": 7,
   "metadata": {},
   "outputs": [
    {
     "data": {
      "text/plain": [
       "array([[ 2.33333333, -1.        ],\n",
       "       [-1.        ,  0.5       ]])"
      ]
     },
     "execution_count": 7,
     "metadata": {},
     "output_type": "execute_result"
    }
   ],
   "source": [
    "inv=np.linalg.inv(val)\n",
    "inv"
   ]
  },
  {
   "cell_type": "code",
   "execution_count": 8,
   "metadata": {},
   "outputs": [
    {
     "ename": "ValueError",
     "evalue": "matmul: Input operand 1 has a mismatch in its core dimension 0, with gufunc signature (n?,k),(k,m?)->(n?,m?) (size 2 is different from 3)",
     "output_type": "error",
     "traceback": [
      "\u001b[0;31m---------------------------------------------------------------------------\u001b[0m",
      "\u001b[0;31mValueError\u001b[0m                                Traceback (most recent call last)",
      "Cell \u001b[0;32mIn[8], line 1\u001b[0m\n\u001b[0;32m----> 1\u001b[0m Y\u001b[38;5;129m@X\u001b[39m\u001b[38;5;241m.\u001b[39mT\n",
      "\u001b[0;31mValueError\u001b[0m: matmul: Input operand 1 has a mismatch in its core dimension 0, with gufunc signature (n?,k),(k,m?)->(n?,m?) (size 2 is different from 3)"
     ]
    }
   ],
   "source": [
    "Y@X.T"
   ]
  },
  {
   "cell_type": "code",
   "execution_count": 9,
   "metadata": {},
   "outputs": [
    {
     "data": {
      "text/plain": [
       "array([10, 23])"
      ]
     },
     "execution_count": 9,
     "metadata": {},
     "output_type": "execute_result"
    }
   ],
   "source": [
    "X.T@Y"
   ]
  },
  {
   "cell_type": "code",
   "execution_count": 10,
   "metadata": {},
   "outputs": [
    {
     "name": "stdout",
     "output_type": "stream",
     "text": [
      "m(slope)= 0.3333333333333286 b(intercept)= 1.5\n"
     ]
    }
   ],
   "source": [
    "m,b=inv@(X.T@Y)\n",
    "print('m(slope)=',m,'b(intercept)=',b)"
   ]
  },
  {
   "cell_type": "code",
   "execution_count": null,
   "metadata": {},
   "outputs": [],
   "source": [
    "# y=mx+b\n",
    "\n",
    "#x=[1,2,3]\n",
    "#y=[2,3,5]\n",
    "#set-1\n",
    "# 2=.33(1)+1.5\n",
    "#2 = 1.88\n",
    "#Here 2 is the actaul value and 1.88 is the predicted value\n",
    "\n",
    "#set-2\n",
    "#3=.33(2)+1.5\n",
    "#3=.66+1.5\n",
    "#3=2.16\n",
    "#Here 3 is the actaul value and 2.16 is the predicted value\n",
    "\n",
    "#set-3\n",
    "#5=.33(3)+1.5\n",
    "#5=.99+1.5\n",
    "#5=2.49\n",
    "#Here 35 is the actaul value and 2.49 is the predicted value\n",
    "\n"
   ]
  },
  {
   "cell_type": "code",
   "execution_count": 11,
   "metadata": {},
   "outputs": [],
   "source": [
    "X=np.array([[3,2],[4,2]])\n",
    "Y=np.array([10,4])"
   ]
  },
  {
   "cell_type": "code",
   "execution_count": 12,
   "metadata": {},
   "outputs": [
    {
     "name": "stdout",
     "output_type": "stream",
     "text": [
      "(2, 2)\n",
      "(2,)\n"
     ]
    }
   ],
   "source": [
    "print(X.shape)\n",
    "print(Y.shape)"
   ]
  },
  {
   "cell_type": "code",
   "execution_count": 13,
   "metadata": {},
   "outputs": [
    {
     "data": {
      "text/plain": [
       "array([[3, 4],\n",
       "       [2, 2]])"
      ]
     },
     "execution_count": 13,
     "metadata": {},
     "output_type": "execute_result"
    }
   ],
   "source": [
    "X.T"
   ]
  },
  {
   "cell_type": "code",
   "execution_count": 14,
   "metadata": {},
   "outputs": [
    {
     "data": {
      "text/plain": [
       "array([[25, 14],\n",
       "       [14,  8]])"
      ]
     },
     "execution_count": 14,
     "metadata": {},
     "output_type": "execute_result"
    }
   ],
   "source": [
    "X.T@X"
   ]
  },
  {
   "cell_type": "code",
   "execution_count": 15,
   "metadata": {},
   "outputs": [
    {
     "data": {
      "text/plain": [
       "array([[ 2.  , -3.5 ],\n",
       "       [-3.5 ,  6.25]])"
      ]
     },
     "execution_count": 15,
     "metadata": {},
     "output_type": "execute_result"
    }
   ],
   "source": [
    "np.linalg.inv(X.T@X)"
   ]
  },
  {
   "cell_type": "code",
   "execution_count": 16,
   "metadata": {},
   "outputs": [
    {
     "data": {
      "text/plain": [
       "array([46, 28])"
      ]
     },
     "execution_count": 16,
     "metadata": {},
     "output_type": "execute_result"
    }
   ],
   "source": [
    "X.T@Y"
   ]
  },
  {
   "cell_type": "code",
   "execution_count": 17,
   "metadata": {},
   "outputs": [
    {
     "data": {
      "text/plain": [
       "array([-6., 14.])"
      ]
     },
     "execution_count": 17,
     "metadata": {},
     "output_type": "execute_result"
    }
   ],
   "source": [
    "np.linalg.inv(X.T@X)@(X.T@Y)"
   ]
  },
  {
   "cell_type": "code",
   "execution_count": 18,
   "metadata": {},
   "outputs": [
    {
     "name": "stdout",
     "output_type": "stream",
     "text": [
      "b= -6.000000000000034 m= 14.000000000000053\n"
     ]
    }
   ],
   "source": [
    "b,m=np.linalg.inv(X.T@X)@(X.T@Y)\n",
    "#print('b=',abs(b),'m=',abs(m))\n",
    "print('b=',(b),'m=',(m))\n"
   ]
  },
  {
   "cell_type": "code",
   "execution_count": null,
   "metadata": {},
   "outputs": [],
   "source": [
    "#y=mx+c\n"
   ]
  },
  {
   "cell_type": "code",
   "execution_count": 20,
   "metadata": {},
   "outputs": [
    {
     "data": {
      "text/html": [
       "<div>\n",
       "<style scoped>\n",
       "    .dataframe tbody tr th:only-of-type {\n",
       "        vertical-align: middle;\n",
       "    }\n",
       "\n",
       "    .dataframe tbody tr th {\n",
       "        vertical-align: top;\n",
       "    }\n",
       "\n",
       "    .dataframe thead th {\n",
       "        text-align: right;\n",
       "    }\n",
       "</style>\n",
       "<table border=\"1\" class=\"dataframe\">\n",
       "  <thead>\n",
       "    <tr style=\"text-align: right;\">\n",
       "      <th></th>\n",
       "      <th>no_of_customers</th>\n",
       "      <th>no_of_server</th>\n",
       "      <th>bill_amt</th>\n",
       "      <th>tips_amt</th>\n",
       "    </tr>\n",
       "  </thead>\n",
       "  <tbody>\n",
       "    <tr>\n",
       "      <th>0</th>\n",
       "      <td>10</td>\n",
       "      <td>3</td>\n",
       "      <td>10000</td>\n",
       "      <td>500</td>\n",
       "    </tr>\n",
       "    <tr>\n",
       "      <th>1</th>\n",
       "      <td>5</td>\n",
       "      <td>2</td>\n",
       "      <td>10000</td>\n",
       "      <td>1000</td>\n",
       "    </tr>\n",
       "    <tr>\n",
       "      <th>2</th>\n",
       "      <td>25</td>\n",
       "      <td>5</td>\n",
       "      <td>15000</td>\n",
       "      <td>1000</td>\n",
       "    </tr>\n",
       "  </tbody>\n",
       "</table>\n",
       "</div>"
      ],
      "text/plain": [
       "   no_of_customers  no_of_server  bill_amt  tips_amt\n",
       "0               10             3     10000       500\n",
       "1                5             2     10000      1000\n",
       "2               25             5     15000      1000"
      ]
     },
     "execution_count": 20,
     "metadata": {},
     "output_type": "execute_result"
    }
   ],
   "source": [
    "pd.read_csv('tips_data.csv')"
   ]
  },
  {
   "cell_type": "code",
   "execution_count": 21,
   "metadata": {},
   "outputs": [
    {
     "name": "stdout",
     "output_type": "stream",
     "text": [
      "[[    1    10     3  1000]\n",
      " [    1     5     2 10000]\n",
      " [    1    25     5 15000]] (3, 4)\n"
     ]
    }
   ],
   "source": [
    "X=np.array([[1,10,3,1000],[1,5,2,10000],[1,25,5,15000]])\n",
    "print(X,X.shape)"
   ]
  },
  {
   "cell_type": "code",
   "execution_count": 24,
   "metadata": {},
   "outputs": [],
   "source": [
    "Y=np.array([500,1000,1000])"
   ]
  },
  {
   "cell_type": "code",
   "execution_count": 25,
   "metadata": {},
   "outputs": [
    {
     "data": {
      "text/plain": [
       "array([ 3.072e+03,  1.280e+02, -1.024e+03,  3.125e-02])"
      ]
     },
     "execution_count": 25,
     "metadata": {},
     "output_type": "execute_result"
    }
   ],
   "source": [
    "np.linalg.inv(X.T@X)@(X.T@Y)"
   ]
  },
  {
   "cell_type": "code",
   "execution_count": null,
   "metadata": {},
   "outputs": [],
   "source": [
    "tip_amount = 3072 + 128*no_of_customers -1024*no_of_servers + .03125*bill_amt\n"
   ]
  }
 ],
 "metadata": {
  "kernelspec": {
   "display_name": "base",
   "language": "python",
   "name": "python3"
  },
  "language_info": {
   "codemirror_mode": {
    "name": "ipython",
    "version": 3
   },
   "file_extension": ".py",
   "mimetype": "text/x-python",
   "name": "python",
   "nbconvert_exporter": "python",
   "pygments_lexer": "ipython3",
   "version": "3.11.7"
  }
 },
 "nbformat": 4,
 "nbformat_minor": 2
}
