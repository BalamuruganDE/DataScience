{
 "cells": [
  {
   "cell_type": "markdown",
   "metadata": {},
   "source": [
    "### The questions for the exercises are given above the cells and the expected output is given below the cell. Please type the code inserting a new cell below the question because if you run the expected output cell the output would vanish! Happy learning! "
   ]
  },
  {
   "cell_type": "markdown",
   "metadata": {},
   "source": [
    "## 1. Write a Python program to find those numbers which are divisible by 7 and multiple of 5, between 1500 and 2700 (both included). "
   ]
  },
  {
   "cell_type": "code",
   "execution_count": null,
   "metadata": {},
   "outputs": [
    {
     "name": "stdout",
     "output_type": "stream",
     "text": [
      "1505,1540,1575,1610,1645,1680,1715,1750,1785,1820,1855,1890,1925,1960,1995,2030,2065,2100,2135,2170,2205,2240,2275,2310,2345,2380,2415,2450,2485,2520,2555,2590,2625,2660,2695\n"
     ]
    }
   ],
   "source": []
  },
  {
   "cell_type": "code",
   "execution_count": 146,
   "metadata": {},
   "outputs": [
    {
     "name": "stdout",
     "output_type": "stream",
     "text": [
      "1505,1540,1575,1610,1645,1680,1715,1750,1785,1820,1855,1890,1925,1960,1995,2030,2065,2100,2135,2170,2205,2240,2275,2310,2345,2380,2415,2450,2485,2520,2555,2590,2625,2660,2695\n"
     ]
    }
   ],
   "source": [
    "lst = list(range(1500,2701))\n",
    "new_lst=[]\n",
    "for i in lst:\n",
    "    if (i%7==0) & (i%5==0):\n",
    "        # print(i,',',end=\"\")\n",
    "        # new_lst.append(i)\n",
    "        new_lst.append(str(i))\n",
    "print(','.join(new_lst))\n"
   ]
  },
  {
   "cell_type": "markdown",
   "metadata": {},
   "source": [
    "## 2. Write a Python program to construct the following pattern, using a nested for loop.\n"
   ]
  },
  {
   "cell_type": "markdown",
   "metadata": {},
   "source": [
    "* \n",
    "* * \n",
    "* * * \n",
    "* * * * \n",
    "* * * * * \n",
    "* * * * \n",
    "* * * \n",
    "* * \n",
    "* "
   ]
  },
  {
   "cell_type": "code",
   "execution_count": 203,
   "metadata": {},
   "outputs": [
    {
     "name": "stdout",
     "output_type": "stream",
     "text": [
      "&&&&\n",
      "&&&*=\n",
      "&&*=*=\n",
      "&*=*=*=\n",
      "*=*=*=*=\n",
      "* * * * \n",
      "&* * * \n",
      "&&* * \n",
      "&&&* \n"
     ]
    }
   ],
   "source": [
    "# n=5\n",
    "# for i in range(0,6): \n",
    "#     for k in range(5,0,-1):\n",
    "#         for j in range(i):\n",
    "#             print('* ',end='')\n",
    "#     print(' ',end='')\n",
    "#     print()\n",
    "# for i in range(4,0,-1):\n",
    "#     for j in range(i):\n",
    "#         print('* ',end='')\n",
    "#     print()\n",
    "n=5\n",
    "for i in range(0,n,1):\n",
    "    for j in range(n-i-1):\n",
    "        print('&',end='')\n",
    "    for k in range(i):\n",
    "        print('*=',end='')\n",
    "    print()\n",
    "\n",
    "for i in range(n-1,0,-1):\n",
    "    for j in range(n-i-1):\n",
    "        print('&',end='')\n",
    "    for k in range(i):\n",
    "        print('* ',end='')\n",
    "    print()\n",
    "\n"
   ]
  },
  {
   "cell_type": "code",
   "execution_count": null,
   "metadata": {},
   "outputs": [],
   "source": []
  },
  {
   "cell_type": "code",
   "execution_count": 181,
   "metadata": {},
   "outputs": [
    {
     "name": "stdout",
     "output_type": "stream",
     "text": [
      "\n",
      "\n",
      "* \n",
      "* * \n",
      "* * * \n",
      "* * * * \n",
      "* * * * * \n",
      "* * * * \n",
      "* * * \n",
      "* * \n",
      "* "
     ]
    }
   ],
   "source": [
    "for i in range(0,5):\n",
    "    print()\n",
    "    for j in range(i):\n",
    "        print(\"* \",end=\"\")\n",
    "for i in range(5,0,-1):\n",
    "    print()\n",
    "    for j in range(i):\n",
    "        print(\"* \",end=\"\")"
   ]
  },
  {
   "cell_type": "code",
   "execution_count": null,
   "metadata": {},
   "outputs": [],
   "source": []
  },
  {
   "cell_type": "markdown",
   "metadata": {},
   "source": [
    "## 3. Write a Python program to count the number of even and odd numbers from a series of numbers."
   ]
  },
  {
   "cell_type": "code",
   "execution_count": 52,
   "metadata": {},
   "outputs": [
    {
     "name": "stdout",
     "output_type": "stream",
     "text": [
      "Number of even numbers : 4\n",
      "Number of odd numbers : 5\n"
     ]
    }
   ],
   "source": [
    "lst = list(range(1,10))\n",
    "lst\n",
    "eCount=0\n",
    "oCount=0\n",
    "for i in lst:\n",
    "    if (i%2==0):\n",
    "        eCount+=1\n",
    "    else:\n",
    "        oCount+=1\n",
    "print('Number of even numbers :',eCount)\n",
    "print('Number of odd numbers :',oCount)"
   ]
  },
  {
   "cell_type": "code",
   "execution_count": 4,
   "metadata": {},
   "outputs": [
    {
     "name": "stdout",
     "output_type": "stream",
     "text": [
      "Number of even numbers : 4\n",
      "Number of odd numbers : 5\n"
     ]
    }
   ],
   "source": []
  },
  {
   "cell_type": "markdown",
   "metadata": {},
   "source": [
    "## 4. Write a Python program to find numbers between 100 and 400 (both included) where each digit of a number is an even number. The numbers obtained should be printed in a comma-separated sequence."
   ]
  },
  {
   "cell_type": "code",
   "execution_count": 3,
   "metadata": {},
   "outputs": [
    {
     "name": "stdout",
     "output_type": "stream",
     "text": [
      "200,202,204,206,208,220,222,224,226,228,240,242,244,246,248,260,262,264,266,268,280,282,284,286,288,400\n"
     ]
    }
   ],
   "source": [
    "res=[]\n",
    "for i in range(200,401):\n",
    "    count=len(str(i))\n",
    "    for j in str(i):\n",
    "        if (int(j)%2==0):\n",
    "            count-=1\n",
    "        if count == 0:\n",
    "            # res.append(i)\n",
    "            res.append(str(i))\n",
    "# print(res)\n",
    "print(','.join(res))\n",
    "\n",
    "\n"
   ]
  },
  {
   "cell_type": "code",
   "execution_count": 1,
   "metadata": {},
   "outputs": [
    {
     "name": "stdout",
     "output_type": "stream",
     "text": [
      "800,802,804,806,808,820,822,824,826,828,840,842,844,846,848,860,862,864,866,868,880,882,884,886,888,2000,2002\n"
     ]
    }
   ],
   "source": [
    "res=[]\n",
    "for i in range(700,2003):\n",
    "    s= str(i)\n",
    "    if all(int(dig)%2==0 for dig in s):\n",
    "            res.append(s)\n",
    "print(','.join(res))"
   ]
  },
  {
   "cell_type": "code",
   "execution_count": 5,
   "metadata": {},
   "outputs": [
    {
     "name": "stdout",
     "output_type": "stream",
     "text": [
      "200,202,204,206,208,220,222,224,226,228,240,242,244,246,248,260,262,264,266,268,280,282,284,286,288,400\n"
     ]
    }
   ],
   "source": []
  },
  {
   "cell_type": "markdown",
   "metadata": {},
   "source": [
    "## 5. Write a Python program to calculate a dog's age in dog's years.\n",
    "Note: For the first two years, a dog year is equal to 10.5 human years. After that, each dog year equals 4 human years."
   ]
  },
  {
   "cell_type": "code",
   "execution_count": 1,
   "metadata": {},
   "outputs": [],
   "source": [
    "dAge = input(\"Input a dog's age in human years: \")\n",
    "if (float(dAge)<= 2):\n",
    "    print(\"The dog's age in dog's years is\",float(dAge)*10.5)\n",
    "elif (float(dAge)> 2):\n",
    "      print(\"The dog's age in dog's years is\",int((float(dAge)-2)*4+(2*10.5)))"
   ]
  },
  {
   "cell_type": "code",
   "execution_count": 6,
   "metadata": {},
   "outputs": [
    {
     "name": "stdout",
     "output_type": "stream",
     "text": [
      "The dog's age in dog's years is 10.5\n"
     ]
    }
   ],
   "source": [
    "def dogYrs(age):\n",
    "    if age <=2:\n",
    "        print(\"The dog's age in dog's years is\",age*10.5)\n",
    "    else:\n",
    "         print(\"The dog's age in dog's years is\",(age-2)*4+21)\n",
    "\n",
    "dogYrs(1)\n",
    "\n",
    "\n"
   ]
  },
  {
   "cell_type": "code",
   "execution_count": 7,
   "metadata": {},
   "outputs": [],
   "source": [
    "def dog_years(human_years):\n",
    "    if human_years <= 2:\n",
    "        dog_years = human_years * 10.5\n",
    "    else:\n",
    "        # first two years count as 10.5 dog years\n",
    "        dog_years = 21 + (human_years - 2) * 4\n",
    "    return dog_years\n",
    "\n",
    "# request user input\n",
    "human_years = int(Text(\"Enter the dog's age in human years: \"))\n",
    "\n",
    "# convert to dog years\n",
    "result = dog_years(human_years)\n",
    "\n",
    "# print result\n",
    "print(f\"The dog's age in dog's years is: {result}\")"
   ]
  },
  {
   "cell_type": "code",
   "execution_count": 2,
   "metadata": {},
   "outputs": [
    {
     "name": "stdout",
     "output_type": "stream",
     "text": [
      "10.5\n",
      "93\n"
     ]
    }
   ],
   "source": [
    "def dog_years(human_years):\n",
    "    if human_years <= 2:\n",
    "        dog_years = human_years * 10.5\n",
    "    else:\n",
    "        # first two years count as 10.5 dog years\n",
    "        dog_years = 21 + (human_years - 2) * 4\n",
    "    return dog_years\n",
    "\n",
    "# example usage:\n",
    "\n",
    "print(dog_years(1))  # Outputs: 10.5\n",
    "print(dog_years(20))  # Outputs: 25.0"
   ]
  },
  {
   "cell_type": "code",
   "execution_count": 7,
   "metadata": {},
   "outputs": [
    {
     "name": "stdout",
     "output_type": "stream",
     "text": [
      "Input a dog's age in human years: 20\n",
      "The dog's age in dog's years is 93\n"
     ]
    }
   ],
   "source": []
  },
  {
   "cell_type": "markdown",
   "metadata": {},
   "source": [
    "## 6. Write a Python function to find the Max of three numbers."
   ]
  },
  {
   "cell_type": "code",
   "execution_count": 9,
   "metadata": {},
   "outputs": [
    {
     "name": "stdout",
     "output_type": "stream",
     "text": [
      "The Three numbers are: (3, 6, -5)\n",
      "6\n"
     ]
    }
   ],
   "source": []
  },
  {
   "cell_type": "code",
   "execution_count": 4,
   "metadata": {},
   "outputs": [
    {
     "name": "stdout",
     "output_type": "stream",
     "text": [
      "The Three numbers are: (3, 6, -5)\n",
      "6\n"
     ]
    }
   ],
   "source": [
    "tpl = (3, 6, -5)\n",
    "print('The Three numbers are:',tpl)\n",
    "print(max(tpl))"
   ]
  },
  {
   "cell_type": "code",
   "execution_count": 9,
   "metadata": {},
   "outputs": [
    {
     "name": "stdout",
     "output_type": "stream",
     "text": [
      "The Three numbers are: (3, 6, -5)\n",
      "6\n"
     ]
    }
   ],
   "source": [
    "def maxNum(tlp):\n",
    "    return(max(tpl))\n",
    "\n",
    "tpl = (3, 6, -5)\n",
    "print('The Three numbers are:',tpl)\n",
    "print(maxNum(tpl))"
   ]
  },
  {
   "cell_type": "code",
   "execution_count": null,
   "metadata": {},
   "outputs": [],
   "source": []
  },
  {
   "cell_type": "markdown",
   "metadata": {},
   "source": [
    "## 7. Write a Python function that takes a number as a parameter and check the number is prime or not."
   ]
  },
  {
   "cell_type": "markdown",
   "metadata": {},
   "source": [
    "The number is: 9\n",
    "False"
   ]
  },
  {
   "cell_type": "code",
   "execution_count": null,
   "metadata": {},
   "outputs": [],
   "source": []
  },
  {
   "cell_type": "code",
   "execution_count": 70,
   "metadata": {},
   "outputs": [
    {
     "name": "stdout",
     "output_type": "stream",
     "text": [
      "The number is: 13\n"
     ]
    },
    {
     "data": {
      "text/plain": [
       "True"
      ]
     },
     "execution_count": 70,
     "metadata": {},
     "output_type": "execute_result"
    }
   ],
   "source": [
    "def primeNum(num):\n",
    "    print('The number is:',num)\n",
    "    if num<=1:\n",
    "        print(f'{num} is not a prime number')\n",
    "    else:\n",
    "        for i in range(2,num):\n",
    "            if num%i==0:\n",
    "                return False\n",
    "    return True\n",
    "\n",
    "\n",
    "primeNum(13)"
   ]
  },
  {
   "cell_type": "code",
   "execution_count": null,
   "metadata": {},
   "outputs": [],
   "source": []
  },
  {
   "cell_type": "markdown",
   "metadata": {},
   "source": [
    "## 8. Write a Python function that accepts a string and calculate the number of upper case letters and lower case letters. Go to the editor\n"
   ]
  },
  {
   "cell_type": "code",
   "execution_count": 77,
   "metadata": {},
   "outputs": [
    {
     "name": "stdout",
     "output_type": "stream",
     "text": [
      "Original String : Inceptz is One of The BeSt Places TO LEarn DataSciEnce\n",
      "No. of Upper case characters : 13\n",
      "No. of Lower case Characters : 32\n"
     ]
    }
   ],
   "source": [
    "def wordCount(str):\n",
    "    print(\"Original String :\",str)\n",
    "    uCount=0\n",
    "    lCount=0\n",
    "    for i in str:\n",
    "        if i.islower():\n",
    "            lCount+=1\n",
    "        elif i.isupper():\n",
    "            uCount+=1\n",
    "    print('No. of Upper case characters :',uCount)\n",
    "    print('No. of Lower case Characters :',lCount)\n",
    "    \n",
    "wordCount(\"Inceptz is One of The BeSt Places TO LEarn DataSciEnce\")"
   ]
  },
  {
   "cell_type": "code",
   "execution_count": 80,
   "metadata": {},
   "outputs": [
    {
     "name": "stdout",
     "output_type": "stream",
     "text": [
      "Original String : Inceptz is One of The BeSt Places TO LEarn DataSciEnce\n",
      "No. of Upper case characters : 13\n",
      "No. of Lower case Characters : 32\n"
     ]
    }
   ],
   "source": [
    "def cCount(text):\n",
    "    Upper = sum(1 for i in text if i.isupper())\n",
    "    Lower = sum(1 for i in text if i.islower())\n",
    "    return Upper,Lower\n",
    "\n",
    "text=\"Inceptz is One of The BeSt Places TO LEarn DataSciEnce\"\n",
    "Upper,Lower=cCount(text)\n",
    "\n",
    "print(\"Original String :\",text)\n",
    "print('No. of Upper case characters :',Upper)\n",
    "print('No. of Lower case Characters :',Lower)"
   ]
  },
  {
   "cell_type": "code",
   "execution_count": 82,
   "metadata": {},
   "outputs": [
    {
     "name": "stdout",
     "output_type": "stream",
     "text": [
      "54\n",
      "54\n"
     ]
    }
   ],
   "source": [
    "text =\"Inceptz is One of The BeSt Places TO LEarn DataSciEnce\"\n",
    "Count = sum(1 for i in text )\n",
    "print(Count)\n",
    "CC=0\n",
    "for i in text:\n",
    "    CC+=1\n",
    "print(CC)"
   ]
  },
  {
   "cell_type": "code",
   "execution_count": 13,
   "metadata": {},
   "outputs": [
    {
     "name": "stdout",
     "output_type": "stream",
     "text": [
      "Original String :  Inceptz is One of The BeSt Places TO LEarn DataSciEnce\n",
      "No. of Upper case characters :  13\n",
      "No. of Lower case Characters :  32\n"
     ]
    }
   ],
   "source": []
  },
  {
   "cell_type": "markdown",
   "metadata": {},
   "source": [
    "## 9. Write a Python program to reverse a string. "
   ]
  },
  {
   "cell_type": "code",
   "execution_count": 118,
   "metadata": {},
   "outputs": [
    {
     "name": "stdout",
     "output_type": "stream",
     "text": [
      "The original string is: 1234abcd\n",
      "The reversed string: dcba4321\n"
     ]
    }
   ],
   "source": [
    "text = \"1234abcd\"\n",
    "print(\"The original string is:\",text)\n",
    "print(\"The reversed string:\",text[::-1])"
   ]
  },
  {
   "cell_type": "code",
   "execution_count": 19,
   "metadata": {},
   "outputs": [
    {
     "name": "stdout",
     "output_type": "stream",
     "text": [
      "The original string is: 1234abcd\n",
      "The reversed string: dcba4321\n"
     ]
    }
   ],
   "source": []
  },
  {
   "cell_type": "markdown",
   "metadata": {},
   "source": [
    "## 10. Write a Python program to find  the greatest common divisor (gcd) of two integers."
   ]
  },
  {
   "cell_type": "code",
   "execution_count": 18,
   "metadata": {},
   "outputs": [
    {
     "name": "stdout",
     "output_type": "stream",
     "text": [
      "The two numbers are: (12, 14)\n",
      "The GCD of the numbers are: 2\n"
     ]
    }
   ],
   "source": []
  },
  {
   "cell_type": "code",
   "execution_count": 9,
   "metadata": {},
   "outputs": [
    {
     "name": "stdout",
     "output_type": "stream",
     "text": [
      "The two numbers are: 12 14\n",
      "The GCD of the numbers are: 2\n"
     ]
    }
   ],
   "source": [
    "def GCD(a,b):\n",
    "    set1=set()\n",
    "    set2=set()\n",
    "    # print(a,b)\n",
    "    print(\"The two numbers are:\", a,b)\n",
    "    for i in range(1,a):\n",
    "        if a%i==0:\n",
    "            set1.add(i)\n",
    "    for j in range(1,b):\n",
    "        if b%j==0:\n",
    "            set2.add(j)\n",
    "    # print('set1:',set1)\n",
    "    # print('set2:',set2)\n",
    "    # print(set1.intersection(set2))\n",
    "    print(\"The GCD of the numbers are:\",max(set1.intersection(set2)))\n",
    "\n",
    "GCD(12,14)"
   ]
  },
  {
   "cell_type": "code",
   "execution_count": null,
   "metadata": {},
   "outputs": [],
   "source": []
  }
 ],
 "metadata": {
  "kernelspec": {
   "display_name": "Python 3",
   "language": "python",
   "name": "python3"
  },
  "language_info": {
   "codemirror_mode": {
    "name": "ipython",
    "version": 3
   },
   "file_extension": ".py",
   "mimetype": "text/x-python",
   "name": "python",
   "nbconvert_exporter": "python",
   "pygments_lexer": "ipython3",
   "version": "3.11.7"
  }
 },
 "nbformat": 4,
 "nbformat_minor": 4
}
