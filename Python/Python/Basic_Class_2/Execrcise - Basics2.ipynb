{
 "cells": [
  {
   "cell_type": "markdown",
   "metadata": {},
   "source": [
    "#### The questions for the exercises are given above the cells and the expected output is given below the cell. Please type the code inserting a new cell below the question because if you run the expected output cell the output would vanish! Happy learning!\n",
    "### Exercise Question 1: Given an input list removes the element at index 4 and add it to the 2nd position and also, at the end of the list\n",
    "For example: List = [54, 44, 27, 79, 91, 41]"
   ]
  },
  {
   "cell_type": "code",
   "execution_count": 20,
   "metadata": {},
   "outputs": [
    {
     "name": "stdout",
     "output_type": "stream",
     "text": [
      "Original list [34, 54, 67, 89, 11, 43, 94]\n",
      "11\n",
      "List After removing element at index 4  [34, 54, 67, 89, 43, 94]\n",
      "List after Adding element at index 2  [34, 54, 11, 67, 89, 43, 94]\n",
      "List after Adding element at last  [34, 54, 11, 67, 89, 43, 94, 11]\n"
     ]
    },
    {
     "ename": "TypeError",
     "evalue": "'int' object is not iterable",
     "output_type": "error",
     "traceback": [
      "\u001b[0;31m---------------------------------------------------------------------------\u001b[0m",
      "\u001b[0;31mTypeError\u001b[0m                                 Traceback (most recent call last)",
      "Cell \u001b[0;32mIn[20], line 12\u001b[0m\n\u001b[1;32m     10\u001b[0m \u001b[38;5;28mprint\u001b[39m(\u001b[38;5;124m'\u001b[39m\u001b[38;5;124mList after Adding element at last \u001b[39m\u001b[38;5;124m'\u001b[39m,lst)\n\u001b[1;32m     11\u001b[0m get_ipython()\u001b[38;5;241m.\u001b[39mrun_line_magic(\u001b[38;5;124m'\u001b[39m\u001b[38;5;124mpinfo\u001b[39m\u001b[38;5;124m'\u001b[39m, \u001b[38;5;124m'\u001b[39m\u001b[38;5;124mlst.extend\u001b[39m\u001b[38;5;124m'\u001b[39m)\n\u001b[0;32m---> 12\u001b[0m lst\u001b[38;5;241m.\u001b[39mextend(lst_ele)\n",
      "\u001b[0;31mTypeError\u001b[0m: 'int' object is not iterable"
     ]
    },
    {
     "name": "stdout",
     "output_type": "stream",
     "text": [
      "\u001b[0;31mSignature:\u001b[0m \u001b[0mlst\u001b[0m\u001b[0;34m.\u001b[0m\u001b[0mextend\u001b[0m\u001b[0;34m(\u001b[0m\u001b[0miterable\u001b[0m\u001b[0;34m,\u001b[0m \u001b[0;34m/\u001b[0m\u001b[0;34m)\u001b[0m\u001b[0;34m\u001b[0m\u001b[0;34m\u001b[0m\u001b[0m\n",
      "\u001b[0;31mDocstring:\u001b[0m Extend list by appending elements from the iterable.\n",
      "\u001b[0;31mType:\u001b[0m      builtin_function_or_method"
     ]
    }
   ],
   "source": [
    "lst = [34, 54, 67, 89, 11, 43, 94]\n",
    "print('Original list',lst)\n",
    "lst_ele=lst[4]\n",
    "lst.pop(4)\n",
    "print(lst_ele)\n",
    "print('List After removing element at index 4 ',lst)\n",
    "lst.insert(2,lst_ele)\n",
    "print('List after Adding element at index 2 ',lst)\n",
    "lst.append(lst_ele)\n",
    "print('List after Adding element at last ',lst)\n",
    "lst.extend?\n",
    "lst.extend(lst_ele)\n",
    "\n"
   ]
  },
  {
   "cell_type": "code",
   "execution_count": null,
   "metadata": {},
   "outputs": [],
   "source": []
  },
  {
   "cell_type": "markdown",
   "metadata": {},
   "source": []
  },
  {
   "cell_type": "code",
   "execution_count": null,
   "metadata": {},
   "outputs": [],
   "source": [
    "Original list  [34, 54, 67, 89, 11, 43, 94]\n",
    "List After removing element at index 4  [34, 54, 67, 89, 43, 94]\n",
    "List after Adding element at index 2  [34, 54, 11, 67, 89, 43, 94]\n",
    "List after Adding element at last  [34, 54, 11, 67, 89, 43, 94, 11]"
   ]
  },
  {
   "cell_type": "code",
   "execution_count": null,
   "metadata": {},
   "outputs": [],
   "source": []
  },
  {
   "cell_type": "markdown",
   "metadata": {},
   "source": []
  }
 ],
 "metadata": {
  "kernelspec": {
   "display_name": "base",
   "language": "python",
   "name": "python3"
  },
  "language_info": {
   "codemirror_mode": {
    "name": "ipython",
    "version": 3
   },
   "file_extension": ".py",
   "mimetype": "text/x-python",
   "name": "python",
   "nbconvert_exporter": "python",
   "pygments_lexer": "ipython3",
   "version": "3.11.7"
  }
 },
 "nbformat": 4,
 "nbformat_minor": 2
}
