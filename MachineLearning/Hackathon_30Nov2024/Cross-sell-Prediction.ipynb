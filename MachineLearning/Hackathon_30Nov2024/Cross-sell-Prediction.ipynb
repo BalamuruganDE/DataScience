{
 "cells": [
  {
   "cell_type": "markdown",
   "id": "ccd264a7-bfdc-430d-acdd-5d7ea9c6816b",
   "metadata": {},
   "source": [
    "**Problem Statement**\n"
   ]
  }
 ],
 "metadata": {
  "kernelspec": {
   "display_name": "Python 3.12 (myenv)",
   "language": "python",
   "name": "myenv"
  },
  "language_info": {
   "codemirror_mode": {
    "name": "ipython",
    "version": 3
   },
   "file_extension": ".py",
   "mimetype": "text/x-python",
   "name": "python",
   "nbconvert_exporter": "python",
   "pygments_lexer": "ipython3",
   "version": "3.12.7"
  }
 },
 "nbformat": 4,
 "nbformat_minor": 5
}
