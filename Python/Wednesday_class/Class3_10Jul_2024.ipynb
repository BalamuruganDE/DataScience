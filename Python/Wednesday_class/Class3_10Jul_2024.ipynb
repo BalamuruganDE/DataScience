{
 "cells": [
  {
   "cell_type": "code",
   "execution_count": 2,
   "metadata": {},
   "outputs": [
    {
     "data": {
      "text/plain": [
       "range(1, 5)"
      ]
     },
     "execution_count": 2,
     "metadata": {},
     "output_type": "execute_result"
    }
   ],
   "source": [
    "a=range(1,5)\n",
    "a"
   ]
  },
  {
   "cell_type": "code",
   "execution_count": 3,
   "metadata": {},
   "outputs": [
    {
     "name": "stdout",
     "output_type": "stream",
     "text": [
      "1\n",
      "2\n",
      "3\n",
      "4\n"
     ]
    }
   ],
   "source": [
    "for i in a:\n",
    "    print(i)"
   ]
  },
  {
   "cell_type": "code",
   "execution_count": 4,
   "metadata": {},
   "outputs": [
    {
     "name": "stdout",
     "output_type": "stream",
     "text": [
      "bala\n",
      "meera\n",
      "dakshith\n"
     ]
    }
   ],
   "source": [
    "a=['bala','meera','dakshith']\n",
    "for i in a:\n",
    "    print(i)"
   ]
  },
  {
   "cell_type": "code",
   "execution_count": 5,
   "metadata": {},
   "outputs": [
    {
     "name": "stdout",
     "output_type": "stream",
     "text": [
      "I\n",
      "n\n",
      "d\n",
      "i\n",
      "a\n"
     ]
    }
   ],
   "source": [
    "a='India'\n",
    "for i in a:\n",
    "    print(i)"
   ]
  },
  {
   "cell_type": "code",
   "execution_count": 6,
   "metadata": {},
   "outputs": [
    {
     "name": "stdout",
     "output_type": "stream",
     "text": [
      "bala\n",
      "b\n",
      "a\n",
      "l\n",
      "a\n",
      "meera\n",
      "m\n",
      "e\n",
      "e\n",
      "r\n",
      "a\n",
      "dakshith\n",
      "d\n",
      "a\n",
      "k\n",
      "s\n",
      "h\n",
      "i\n",
      "t\n",
      "h\n"
     ]
    }
   ],
   "source": [
    "a=['bala','meera','dakshith']\n",
    "for i in a:\n",
    "    print(i)\n",
    "    for j in i:\n",
    "        print(j)"
   ]
  },
  {
   "cell_type": "code",
   "execution_count": 8,
   "metadata": {},
   "outputs": [
    {
     "name": "stdout",
     "output_type": "stream",
     "text": [
      "bala\n",
      "meera\n",
      "dakshith\n"
     ]
    }
   ],
   "source": [
    "a=('bala','meera','dakshith')\n",
    "for i in a:\n",
    "    print(i)"
   ]
  },
  {
   "cell_type": "code",
   "execution_count": 9,
   "metadata": {},
   "outputs": [
    {
     "name": "stdout",
     "output_type": "stream",
     "text": [
      "dakshith\n",
      "meera\n",
      "bala\n"
     ]
    }
   ],
   "source": [
    "a={'bala','meera','dakshith'}\n",
    "for i in a:\n",
    "    print(i)"
   ]
  },
  {
   "cell_type": "code",
   "execution_count": 12,
   "metadata": {},
   "outputs": [
    {
     "name": "stdout",
     "output_type": "stream",
     "text": [
      "wk1\n",
      "wk2\n",
      "wk3\n",
      "('wk1', 'rahul')\n",
      "('wk2', 'Dhoni')\n",
      "('wk3', 'pant')\n",
      "rahul\n",
      "Dhoni\n",
      "pant\n"
     ]
    }
   ],
   "source": [
    "a={'wk1':'rahul','wk2':'Dhoni','wk3':'pant'}\n",
    "for i in a:\n",
    "    print(i)\n",
    "for i in a.items():\n",
    "    print(i)\n",
    "\n",
    "for i in a.values():\n",
    "    print(i)"
   ]
  },
  {
   "cell_type": "code",
   "execution_count": 14,
   "metadata": {},
   "outputs": [
    {
     "name": "stdout",
     "output_type": "stream",
     "text": [
      "0\n",
      "1\n",
      "2\n",
      "3\n",
      "4\n"
     ]
    }
   ],
   "source": [
    "i=0\n",
    "while i <5:\n",
    "    print(i)\n",
    "    i+=1"
   ]
  },
  {
   "cell_type": "code",
   "execution_count": 15,
   "metadata": {},
   "outputs": [
    {
     "name": "stdout",
     "output_type": "stream",
     "text": [
      "1\n",
      "2\n",
      "3\n"
     ]
    }
   ],
   "source": [
    "a=[1,2,3]\n",
    "i=0\n",
    "while i < len(a):\n",
    "    print (a[i])\n",
    "    i+=1"
   ]
  },
  {
   "cell_type": "code",
   "execution_count": 18,
   "metadata": {},
   "outputs": [
    {
     "name": "stdout",
     "output_type": "stream",
     "text": [
      "6\n",
      "1\n",
      "2\n",
      "3\n",
      "6\n"
     ]
    }
   ],
   "source": [
    "a=[1,2,3]\n",
    "print(a[0]+a[1]+a[2])\n",
    "i=0\n",
    "x=0\n",
    "while i < len(a):\n",
    "    print (a[i])\n",
    "    x+=a[i]\n",
    "    i+=1\n",
    "print(x)"
   ]
  },
  {
   "cell_type": "code",
   "execution_count": 35,
   "metadata": {},
   "outputs": [
    {
     "name": "stdout",
     "output_type": "stream",
     "text": [
      "******\n",
      "*******\n",
      "********\n",
      "*********\n"
     ]
    }
   ],
   "source": [
    "n=5\n",
    "for i in range(1,n,1):\n",
    "    for j in range(n,-i,-1):\n",
    "        print('*',end='')\n",
    "    print()\n"
   ]
  },
  {
   "cell_type": "code",
   "execution_count": null,
   "metadata": {},
   "outputs": [],
   "source": []
  },
  {
   "cell_type": "code",
   "execution_count": 22,
   "metadata": {},
   "outputs": [
    {
     "name": "stdout",
     "output_type": "stream",
     "text": [
      "[1, 2, 2, 4, 5, 6, 7]\n"
     ]
    }
   ],
   "source": [
    "a=[1,2,3,2,4,5,6,7,3]\n",
    "i=0\n",
    "\n",
    "while 3 in a:\n",
    "    a.remove(3)\n",
    "\n",
    "print(a)\n"
   ]
  }
 ],
 "metadata": {
  "kernelspec": {
   "display_name": "base",
   "language": "python",
   "name": "python3"
  },
  "language_info": {
   "codemirror_mode": {
    "name": "ipython",
    "version": 3
   },
   "file_extension": ".py",
   "mimetype": "text/x-python",
   "name": "python",
   "nbconvert_exporter": "python",
   "pygments_lexer": "ipython3",
   "version": "3.11.7"
  }
 },
 "nbformat": 4,
 "nbformat_minor": 2
}
