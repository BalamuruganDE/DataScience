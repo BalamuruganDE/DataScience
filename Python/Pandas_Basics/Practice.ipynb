{
 "cells": [
  {
   "cell_type": "code",
   "execution_count": 1,
   "metadata": {},
   "outputs": [],
   "source": [
    "import math\n",
    "import os\n",
    "import random\n",
    "import re\n",
    "import sys"
   ]
  },
  {
   "cell_type": "code",
   "execution_count": 2,
   "metadata": {},
   "outputs": [
    {
     "name": "stdout",
     "output_type": "stream",
     "text": [
      "Weird\n"
     ]
    }
   ],
   "source": [
    "n=20\n",
    "if n%2==1 or ( 6<=n <=20):\n",
    "    print('Weird')\n",
    "else:\n",
    "    print('Not Weird')\n",
    "\n"
   ]
  },
  {
   "cell_type": "code",
   "execution_count": 10,
   "metadata": {},
   "outputs": [
    {
     "data": {
      "application/vnd.jupyter.widget-view+json": {
       "model_id": "eac55161af334907a7bd12c55927bb15",
       "version_major": 2,
       "version_minor": 0
      },
      "text/plain": [
       "Text(value='', description='Enter value for x:')"
      ]
     },
     "metadata": {},
     "output_type": "display_data"
    },
    {
     "name": "stderr",
     "output_type": "stream",
     "text": [
      "/var/folders/8b/_vkggsks1pvdn519cywyj0_40000gn/T/ipykernel_9304/2663384074.py:10: DeprecationWarning: on_submit is deprecated. Instead, set the .continuous_update attribute to False and observe the value changing with: mywidget.observe(callback, 'value').\n",
      "  text.on_submit(handle_submit)\n"
     ]
    },
    {
     "name": "stdout",
     "output_type": "stream",
     "text": [
      "You entered: hi\n",
      "You entered: hello\n"
     ]
    }
   ],
   "source": [
    "import ipywidgets as widgets\n",
    "from IPython.display import display\n",
    "\n",
    "text = widgets.Text(description=\"Enter value for x:\")\n",
    "display(text)\n",
    "\n",
    "def handle_submit(sender):\n",
    "    print(f'You entered: {text.value}')\n",
    "\n",
    "text.on_submit(handle_submit)\n"
   ]
  },
  {
   "cell_type": "code",
   "execution_count": 21,
   "metadata": {},
   "outputs": [
    {
     "name": "stdout",
     "output_type": "stream",
     "text": [
      "0 == 0\n",
      "1 == 1\n",
      "2 == 4\n",
      "3 == 9\n",
      "4 == 16\n"
     ]
    }
   ],
   "source": [
    "n=5\n",
    "if (1 <= n <=20):\n",
    "    for i in range(n):\n",
    "        # print(i)\n",
    "        print(i,\"==\",i**2)"
   ]
  },
  {
   "cell_type": "code",
   "execution_count": 27,
   "metadata": {},
   "outputs": [
    {
     "name": "stdout",
     "output_type": "stream",
     "text": [
      "Out of range\n"
     ]
    }
   ],
   "source": [
    "n=101\n",
    "if ( 10<=n <=10**2):\n",
    "    print(n)\n",
    "else:\n",
    "    print('Out of range')"
   ]
  },
  {
   "cell_type": "code",
   "execution_count": 36,
   "metadata": {},
   "outputs": [
    {
     "name": "stdout",
     "output_type": "stream",
     "text": [
      "1\n",
      "2\n",
      "2\n",
      "( 2 , 2 )2\n",
      "( 2 , 2 )3\n",
      "1\n",
      "1\n",
      "( 1 , 2 )"
     ]
    }
   ],
   "source": [
    "a='1222311'\n",
    "# (1, 1) (3, 2) (1, 3) (2, 1)\n",
    "x=0\n",
    "for i in a:\n",
    "    len=1\n",
    "    print(i)\n",
    "    if (x==i):\n",
    "        len+=1\n",
    "        print('(',i,',',len,')',end='')\n",
    "    x=i\n"
   ]
  },
  {
   "cell_type": "code",
   "execution_count": 2,
   "metadata": {},
   "outputs": [
    {
     "name": "stdout",
     "output_type": "stream",
     "text": [
      "( 1 , 1 )( 2 , 3 )( 3 , 1 )( 1 , 2 )"
     ]
    }
   ],
   "source": [
    "from itertools import groupby\n",
    "\n",
    "a='1222311'\n",
    "\n",
    "gpdt=groupby(a)\n",
    "for i,j in gpdt:\n",
    "    print('(',i,',',len(list(j)),')',end='')"
   ]
  },
  {
   "cell_type": "code",
   "execution_count": 3,
   "metadata": {},
   "outputs": [],
   "source": [
    "import numpy as np\n",
    "\n"
   ]
  }
 ],
 "metadata": {
  "kernelspec": {
   "display_name": "Python 3",
   "language": "python",
   "name": "python3"
  },
  "language_info": {
   "codemirror_mode": {
    "name": "ipython",
    "version": 3
   },
   "file_extension": ".py",
   "mimetype": "text/x-python",
   "name": "python",
   "nbconvert_exporter": "python",
   "pygments_lexer": "ipython3",
   "version": "3.12.4"
  }
 },
 "nbformat": 4,
 "nbformat_minor": 2
}
